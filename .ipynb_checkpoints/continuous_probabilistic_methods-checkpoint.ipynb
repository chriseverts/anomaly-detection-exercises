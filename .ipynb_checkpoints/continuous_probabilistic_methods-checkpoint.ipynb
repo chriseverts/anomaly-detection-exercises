{
 "cells": [
  {
   "cell_type": "code",
   "execution_count": 1,
   "id": "87c0ff91",
   "metadata": {},
   "outputs": [],
   "source": [
    "#importing libraries\n",
    "import numpy as np\n",
    "import pandas as pd\n",
    "import seaborn as sns\n",
    "import matplotlib.pyplot as plt\n",
    "import scipy.stats"
   ]
  },
  {
   "cell_type": "markdown",
   "id": "daae6816",
   "metadata": {},
   "source": [
    "Define a function named get_lower_and_upper_bounds that has two arguments. The first argument is a pandas Series. The second argument is the multiplier, which should have a default argument of 1.5."
   ]
  },
  {
   "cell_type": "code",
   "execution_count": 2,
   "id": "80497bf0",
   "metadata": {},
   "outputs": [],
   "source": [
    "#making the function with a default of 1.5 multiplier\n",
    "def get_lower_and_upper_bounds(df,col, m=1.5):\n",
    "    '''\n",
    "    takes in a df, a column from the df, and a multiplier (default is 1.5)\n",
    "    calculates the IQR, prints out the lower and upper bound, and returns entries \n",
    "    below the lower bound, and higher than the upper bound\n",
    "    '''\n",
    "    q1 = df[col].quantile(.25)\n",
    "    q3 = df[col].quantile(.75)\n",
    "    iqr = q3 - q1\n",
    "    upper_value = q3 + (m * iqr)\n",
    "    lower_value = q1 - (m * iqr)\n",
    "    under_bound = df[df[col] < lower_value]\n",
    "    over_bound = df[df[col] > upper_value]\n",
    "    print(f'for {col}, the lower bound is {lower_value}, and the upper bound is {upper_value}')\n",
    "    return under_bound, over_bound"
   ]
  },
  {
   "cell_type": "markdown",
   "id": "37ea6ca6",
   "metadata": {},
   "source": [
    "1.) Using lemonade.csv dataset and focusing on continuous variables:¶"
   ]
  },
  {
   "cell_type": "code",
   "execution_count": 3,
   "id": "45babe97",
   "metadata": {},
   "outputs": [],
   "source": [
    "#bring in lemonade.csv and turn into pandas dataframe (df) for use\n",
    "url = \"https://gist.githubusercontent.com/ryanorsinger/19bc7eccd6279661bd13307026628ace/raw/e4b5d6787015a4782f96cad6d1d62a8bdbac54c7/lemonade.csv\"\n",
    "df = pd.read_csv(url)"
   ]
  },
  {
   "cell_type": "markdown",
   "id": "596a06ea",
   "metadata": {},
   "source": [
    "1a.) Use the IQR Range Rule and the upper and lower bounds to identify the lower outliers of each column of lemonade.csv, using the multiplier of 1.5. Do these lower outliers make sense?Which outliers should be kept?"
   ]
  },
  {
   "cell_type": "code",
   "execution_count": 5,
   "id": "d57d02ef",
   "metadata": {},
   "outputs": [
    {
     "data": {
      "text/plain": [
       "Index(['Date', 'Day', 'Temperature', 'Rainfall', 'Flyers', 'Price', 'Sales'], dtype='object')"
      ]
     },
     "execution_count": 5,
     "metadata": {},
     "output_type": "execute_result"
    }
   ],
   "source": [
    "#checking our columns\n",
    "df.columns"
   ]
  },
  {
   "cell_type": "code",
   "execution_count": 6,
   "id": "36a4203c",
   "metadata": {},
   "outputs": [
    {
     "name": "stdout",
     "output_type": "stream",
     "text": [
      "for Temperature, the lower bound is 16.700000000000003, and the upper bound is 104.7\n"
     ]
    },
    {
     "data": {
      "text/html": [
       "<div>\n",
       "<style scoped>\n",
       "    .dataframe tbody tr th:only-of-type {\n",
       "        vertical-align: middle;\n",
       "    }\n",
       "\n",
       "    .dataframe tbody tr th {\n",
       "        vertical-align: top;\n",
       "    }\n",
       "\n",
       "    .dataframe thead th {\n",
       "        text-align: right;\n",
       "    }\n",
       "</style>\n",
       "<table border=\"1\" class=\"dataframe\">\n",
       "  <thead>\n",
       "    <tr style=\"text-align: right;\">\n",
       "      <th></th>\n",
       "      <th>Date</th>\n",
       "      <th>Day</th>\n",
       "      <th>Temperature</th>\n",
       "      <th>Rainfall</th>\n",
       "      <th>Flyers</th>\n",
       "      <th>Price</th>\n",
       "      <th>Sales</th>\n",
       "    </tr>\n",
       "  </thead>\n",
       "  <tbody>\n",
       "    <tr>\n",
       "      <th>364</th>\n",
       "      <td>12/31/17</td>\n",
       "      <td>Sunday</td>\n",
       "      <td>15.1</td>\n",
       "      <td>2.5</td>\n",
       "      <td>9</td>\n",
       "      <td>0.5</td>\n",
       "      <td>7</td>\n",
       "    </tr>\n",
       "  </tbody>\n",
       "</table>\n",
       "</div>"
      ],
      "text/plain": [
       "         Date     Day  Temperature  Rainfall  Flyers  Price  Sales\n",
       "364  12/31/17  Sunday         15.1       2.5       9    0.5      7"
      ]
     },
     "execution_count": 6,
     "metadata": {},
     "output_type": "execute_result"
    }
   ],
   "source": [
    "#checking for the lower outliers in Temperature column\n",
    "under_bound, over_bound = get_lower_and_upper_bounds(df,'Temperature')\n",
    "under_bound"
   ]
  },
  {
   "cell_type": "code",
   "execution_count": 7,
   "id": "805fe2f7",
   "metadata": {},
   "outputs": [
    {
     "name": "stdout",
     "output_type": "stream",
     "text": [
      "for Rainfall, the lower bound is 0.26, and the upper bound is 1.3\n"
     ]
    },
    {
     "data": {
      "text/html": [
       "<div>\n",
       "<style scoped>\n",
       "    .dataframe tbody tr th:only-of-type {\n",
       "        vertical-align: middle;\n",
       "    }\n",
       "\n",
       "    .dataframe tbody tr th {\n",
       "        vertical-align: top;\n",
       "    }\n",
       "\n",
       "    .dataframe thead th {\n",
       "        text-align: right;\n",
       "    }\n",
       "</style>\n",
       "<table border=\"1\" class=\"dataframe\">\n",
       "  <thead>\n",
       "    <tr style=\"text-align: right;\">\n",
       "      <th></th>\n",
       "      <th>Date</th>\n",
       "      <th>Day</th>\n",
       "      <th>Temperature</th>\n",
       "      <th>Rainfall</th>\n",
       "      <th>Flyers</th>\n",
       "      <th>Price</th>\n",
       "      <th>Sales</th>\n",
       "    </tr>\n",
       "  </thead>\n",
       "  <tbody>\n",
       "  </tbody>\n",
       "</table>\n",
       "</div>"
      ],
      "text/plain": [
       "Empty DataFrame\n",
       "Columns: [Date, Day, Temperature, Rainfall, Flyers, Price, Sales]\n",
       "Index: []"
      ]
     },
     "execution_count": 7,
     "metadata": {},
     "output_type": "execute_result"
    }
   ],
   "source": [
    "#checking for lower outliers in the Rainfall column\n",
    "under_bound, over_bound = get_lower_and_upper_bounds(df,'Rainfall')\n",
    "under_bound"
   ]
  },
  {
   "cell_type": "code",
   "execution_count": 8,
   "id": "9970a118",
   "metadata": {},
   "outputs": [
    {
     "name": "stdout",
     "output_type": "stream",
     "text": [
      "for Flyers, the lower bound is 4.0, and the upper bound is 76.0\n"
     ]
    },
    {
     "data": {
      "text/html": [
       "<div>\n",
       "<style scoped>\n",
       "    .dataframe tbody tr th:only-of-type {\n",
       "        vertical-align: middle;\n",
       "    }\n",
       "\n",
       "    .dataframe tbody tr th {\n",
       "        vertical-align: top;\n",
       "    }\n",
       "\n",
       "    .dataframe thead th {\n",
       "        text-align: right;\n",
       "    }\n",
       "</style>\n",
       "<table border=\"1\" class=\"dataframe\">\n",
       "  <thead>\n",
       "    <tr style=\"text-align: right;\">\n",
       "      <th></th>\n",
       "      <th>Date</th>\n",
       "      <th>Day</th>\n",
       "      <th>Temperature</th>\n",
       "      <th>Rainfall</th>\n",
       "      <th>Flyers</th>\n",
       "      <th>Price</th>\n",
       "      <th>Sales</th>\n",
       "    </tr>\n",
       "  </thead>\n",
       "  <tbody>\n",
       "    <tr>\n",
       "      <th>324</th>\n",
       "      <td>11/21/17</td>\n",
       "      <td>Tuesday</td>\n",
       "      <td>47.0</td>\n",
       "      <td>0.95</td>\n",
       "      <td>-38</td>\n",
       "      <td>0.5</td>\n",
       "      <td>20</td>\n",
       "    </tr>\n",
       "  </tbody>\n",
       "</table>\n",
       "</div>"
      ],
      "text/plain": [
       "         Date      Day  Temperature  Rainfall  Flyers  Price  Sales\n",
       "324  11/21/17  Tuesday         47.0      0.95     -38    0.5     20"
      ]
     },
     "execution_count": 8,
     "metadata": {},
     "output_type": "execute_result"
    }
   ],
   "source": [
    "#checking for lower outliers in Flyers column\n",
    "under_bound, over_bound = get_lower_and_upper_bounds(df,'Flyers')\n",
    "under_bound"
   ]
  },
  {
   "cell_type": "code",
   "execution_count": 9,
   "id": "d74a43a1",
   "metadata": {},
   "outputs": [
    {
     "name": "stdout",
     "output_type": "stream",
     "text": [
      "for Price, the lower bound is 0.5, and the upper bound is 0.5\n"
     ]
    },
    {
     "data": {
      "text/html": [
       "<div>\n",
       "<style scoped>\n",
       "    .dataframe tbody tr th:only-of-type {\n",
       "        vertical-align: middle;\n",
       "    }\n",
       "\n",
       "    .dataframe tbody tr th {\n",
       "        vertical-align: top;\n",
       "    }\n",
       "\n",
       "    .dataframe thead th {\n",
       "        text-align: right;\n",
       "    }\n",
       "</style>\n",
       "<table border=\"1\" class=\"dataframe\">\n",
       "  <thead>\n",
       "    <tr style=\"text-align: right;\">\n",
       "      <th></th>\n",
       "      <th>Date</th>\n",
       "      <th>Day</th>\n",
       "      <th>Temperature</th>\n",
       "      <th>Rainfall</th>\n",
       "      <th>Flyers</th>\n",
       "      <th>Price</th>\n",
       "      <th>Sales</th>\n",
       "    </tr>\n",
       "  </thead>\n",
       "  <tbody>\n",
       "  </tbody>\n",
       "</table>\n",
       "</div>"
      ],
      "text/plain": [
       "Empty DataFrame\n",
       "Columns: [Date, Day, Temperature, Rainfall, Flyers, Price, Sales]\n",
       "Index: []"
      ]
     },
     "execution_count": 9,
     "metadata": {},
     "output_type": "execute_result"
    }
   ],
   "source": [
    "\n",
    "#checking for lower outliers in Price column\n",
    "under_bound, over_bound = get_lower_and_upper_bounds(df,'Price')\n",
    "under_bound"
   ]
  },
  {
   "cell_type": "code",
   "execution_count": 10,
   "id": "b921283c",
   "metadata": {},
   "outputs": [
    {
     "name": "stdout",
     "output_type": "stream",
     "text": [
      "for Sales, the lower bound is 5.0, and the upper bound is 45.0\n"
     ]
    },
    {
     "data": {
      "text/html": [
       "<div>\n",
       "<style scoped>\n",
       "    .dataframe tbody tr th:only-of-type {\n",
       "        vertical-align: middle;\n",
       "    }\n",
       "\n",
       "    .dataframe tbody tr th {\n",
       "        vertical-align: top;\n",
       "    }\n",
       "\n",
       "    .dataframe thead th {\n",
       "        text-align: right;\n",
       "    }\n",
       "</style>\n",
       "<table border=\"1\" class=\"dataframe\">\n",
       "  <thead>\n",
       "    <tr style=\"text-align: right;\">\n",
       "      <th></th>\n",
       "      <th>Date</th>\n",
       "      <th>Day</th>\n",
       "      <th>Temperature</th>\n",
       "      <th>Rainfall</th>\n",
       "      <th>Flyers</th>\n",
       "      <th>Price</th>\n",
       "      <th>Sales</th>\n",
       "    </tr>\n",
       "  </thead>\n",
       "  <tbody>\n",
       "  </tbody>\n",
       "</table>\n",
       "</div>"
      ],
      "text/plain": [
       "Empty DataFrame\n",
       "Columns: [Date, Day, Temperature, Rainfall, Flyers, Price, Sales]\n",
       "Index: []"
      ]
     },
     "execution_count": 10,
     "metadata": {},
     "output_type": "execute_result"
    }
   ],
   "source": [
    "under_bound, over_bound = get_lower_and_upper_bounds(df,'Sales')\n",
    "under_bound"
   ]
  },
  {
   "cell_type": "markdown",
   "id": "942abd79",
   "metadata": {},
   "source": [
    "Flyers's lower outlier doesn't make sense. You can't distribute -38 flyers\n",
    "\n",
    "We can keep the rest of the outliers"
   ]
  },
  {
   "cell_type": "code",
   "execution_count": 11,
   "id": "cd098df3",
   "metadata": {},
   "outputs": [],
   "source": [
    "#the columns we were observing\n",
    "cols=['Temperature','Rainfall','Flyers','Price','Sales']"
   ]
  },
  {
   "cell_type": "code",
   "execution_count": 12,
   "id": "75415624",
   "metadata": {},
   "outputs": [
    {
     "name": "stdout",
     "output_type": "stream",
     "text": [
      "for Temperature, the lower bound is 16.700000000000003, and the upper bound is 104.7\n",
      "         Date     Day  Temperature  Rainfall  Flyers  Price  Sales\n",
      "364  12/31/17  Sunday         15.1       2.5       9    0.5      7\n",
      "\n",
      "\n",
      "for Rainfall, the lower bound is 0.26, and the upper bound is 1.3\n",
      "Empty DataFrame\n",
      "Columns: [Date, Day, Temperature, Rainfall, Flyers, Price, Sales]\n",
      "Index: []\n",
      "\n",
      "\n",
      "for Flyers, the lower bound is 4.0, and the upper bound is 76.0\n",
      "         Date      Day  Temperature  Rainfall  Flyers  Price  Sales\n",
      "324  11/21/17  Tuesday         47.0      0.95     -38    0.5     20\n",
      "\n",
      "\n",
      "for Price, the lower bound is 0.5, and the upper bound is 0.5\n",
      "Empty DataFrame\n",
      "Columns: [Date, Day, Temperature, Rainfall, Flyers, Price, Sales]\n",
      "Index: []\n",
      "\n",
      "\n",
      "for Sales, the lower bound is 5.0, and the upper bound is 45.0\n",
      "Empty DataFrame\n",
      "Columns: [Date, Day, Temperature, Rainfall, Flyers, Price, Sales]\n",
      "Index: []\n",
      "\n",
      "\n"
     ]
    }
   ],
   "source": [
    "#lower outliers returned in one run\n",
    "for i in cols:\n",
    "    under_bound, over_bound = get_lower_and_upper_bounds(df,i)\n",
    "    print(under_bound)\n",
    "    print('\\n')"
   ]
  },
  {
   "cell_type": "markdown",
   "id": "ec812191",
   "metadata": {},
   "source": [
    "1b.) Use the IQR Range Rule and the upper and lower bounds to identify the upper outliers of each column of lemonade.csv, using the multiplier of 1.5. Do these lower outliers make sense?Which outliers should be kept?"
   ]
  },
  {
   "cell_type": "code",
   "execution_count": 13,
   "id": "06e3992a",
   "metadata": {},
   "outputs": [
    {
     "name": "stdout",
     "output_type": "stream",
     "text": [
      "for Temperature, the lower bound is 16.700000000000003, and the upper bound is 104.7\n",
      "       Date       Day  Temperature  Rainfall  Flyers  Price  Sales\n",
      "41  2/11/17  Saturday        212.0      0.91      35    0.5     21\n",
      "\n",
      "\n",
      "for Rainfall, the lower bound is 0.26, and the upper bound is 1.3\n",
      "         Date        Day  Temperature  Rainfall  Flyers  Price  Sales\n",
      "0      1/1/17     Sunday         27.0      2.00      15    0.5     10\n",
      "1      1/2/17     Monday         28.9      1.33      15    0.5     13\n",
      "2      1/3/17    Tuesday         34.5      1.33      27    0.5     15\n",
      "5      1/6/17     Friday         25.3      1.54      23    0.5     11\n",
      "6      1/7/17   Saturday         32.9      1.54      19    0.5     13\n",
      "10    1/11/17  Wednesday         32.6      1.54      23    0.5     12\n",
      "11    1/12/17   Thursday         38.2      1.33      16    0.5     14\n",
      "12    1/13/17     Friday         37.5      1.33      19    0.5     15\n",
      "15    1/16/17     Monday         30.6      1.67      24    0.5     12\n",
      "16    1/17/17    Tuesday         32.2      1.43      26    0.5     14\n",
      "19    1/20/17     Friday         31.6      1.43      20    0.5     12\n",
      "23    1/24/17    Tuesday         28.6      1.54      20    0.5     12\n",
      "27    1/28/17   Saturday         34.9      1.33      15    0.5     13\n",
      "28    1/29/17     Sunday         35.2      1.33      27    0.5     14\n",
      "337   12/4/17     Monday         34.9      1.54      16    0.5     13\n",
      "338   12/5/17    Tuesday         22.0      1.82      11    0.5     10\n",
      "342   12/9/17   Saturday         31.2      1.43      19    0.5     14\n",
      "343  12/10/17     Sunday         31.3      1.82      15    0.5     11\n",
      "345  12/12/17    Tuesday         33.5      1.33      22    0.5     15\n",
      "346  12/13/17  Wednesday         32.2      1.43      26    0.5     14\n",
      "347  12/14/17   Thursday         31.9      1.54      24    0.5     13\n",
      "350  12/17/17     Sunday         32.2      1.33      16    0.5     14\n",
      "351  12/18/17     Monday         30.9      1.43      27    0.5     13\n",
      "354  12/21/17   Thursday         40.5      1.33      23    0.5     15\n",
      "355  12/22/17     Friday         30.9      1.54      17    0.5     13\n",
      "359  12/26/17    Tuesday         28.9      1.43      23    0.5     13\n",
      "363  12/30/17   Saturday         30.9      1.43      22    0.5     13\n",
      "364  12/31/17     Sunday         15.1      2.50       9    0.5      7\n",
      "\n",
      "\n",
      "for Flyers, the lower bound is 4.0, and the upper bound is 76.0\n",
      "        Date     Day  Temperature  Rainfall  Flyers  Price  Sales\n",
      "166  6/16/17  Friday         99.3      0.47      77    0.5     41\n",
      "194  7/14/17  Friday         92.0      0.50      80    0.5     40\n",
      "\n",
      "\n",
      "for Price, the lower bound is 0.5, and the upper bound is 0.5\n",
      "Empty DataFrame\n",
      "Columns: [Date, Day, Temperature, Rainfall, Flyers, Price, Sales]\n",
      "Index: []\n",
      "\n",
      "\n",
      "for Sales, the lower bound is 5.0, and the upper bound is 45.0\n",
      "       Date       Day  Temperature  Rainfall  Flyers  Price  Sales\n",
      "181  7/1/17  Saturday        102.9      0.47      59    0.5    143\n",
      "182  7/2/17    Sunday         93.4      0.51      68    0.5    158\n",
      "183  7/3/17    Monday         81.5      0.54      68    0.5    235\n",
      "184  7/4/17   Tuesday         84.2      0.59      49    0.5    534\n",
      "\n",
      "\n"
     ]
    }
   ],
   "source": [
    "#upper outliers in one run\n",
    "for i in cols:\n",
    "    under_bound, over_bound = get_lower_and_upper_bounds(df,i)\n",
    "    print(over_bound)\n",
    "    print('\\n')"
   ]
  },
  {
   "cell_type": "markdown",
   "id": "35018902",
   "metadata": {},
   "source": [
    "The only upper outlier I am astonished by is the 212 degrees. We should remove that.\n",
    "\n",
    "The sales around 4th of July seem reasonable."
   ]
  },
  {
   "cell_type": "markdown",
   "id": "326d07b1",
   "metadata": {},
   "source": [
    "1c.) Using the multiplier of 3, IQR Range Rule, and the lower and upper bounds, identify the outliers below the lower bound in each colum of lemonade.csv. Do these lower outliers make sense?Which outliers should be kept?"
   ]
  },
  {
   "cell_type": "code",
   "execution_count": 14,
   "id": "a4a38dc2",
   "metadata": {},
   "outputs": [
    {
     "name": "stdout",
     "output_type": "stream",
     "text": [
      "for Temperature, the lower bound is -16.299999999999997, and the upper bound is 137.7\n",
      "Empty DataFrame\n",
      "Columns: [Date, Day, Temperature, Rainfall, Flyers, Price, Sales]\n",
      "Index: []\n",
      "\n",
      "\n",
      "for Rainfall, the lower bound is -0.13, and the upper bound is 1.69\n",
      "Empty DataFrame\n",
      "Columns: [Date, Day, Temperature, Rainfall, Flyers, Price, Sales]\n",
      "Index: []\n",
      "\n",
      "\n",
      "for Flyers, the lower bound is -23.0, and the upper bound is 103.0\n",
      "         Date      Day  Temperature  Rainfall  Flyers  Price  Sales\n",
      "324  11/21/17  Tuesday         47.0      0.95     -38    0.5     20\n",
      "\n",
      "\n",
      "for Price, the lower bound is 0.5, and the upper bound is 0.5\n",
      "Empty DataFrame\n",
      "Columns: [Date, Day, Temperature, Rainfall, Flyers, Price, Sales]\n",
      "Index: []\n",
      "\n",
      "\n",
      "for Sales, the lower bound is -10.0, and the upper bound is 60.0\n",
      "Empty DataFrame\n",
      "Columns: [Date, Day, Temperature, Rainfall, Flyers, Price, Sales]\n",
      "Index: []\n",
      "\n",
      "\n"
     ]
    }
   ],
   "source": [
    "\n",
    "#lower outliers, with multiplier of 3, in one run\n",
    "for i in cols:\n",
    "    under_bound, over_bound = get_lower_and_upper_bounds(df,i, m=3)\n",
    "    print(under_bound)\n",
    "    print('\\n')"
   ]
  },
  {
   "cell_type": "markdown",
   "id": "c058185f",
   "metadata": {},
   "source": [
    "I still vouch to drop -38 flyers, no other outliers."
   ]
  },
  {
   "cell_type": "markdown",
   "id": "5faac8db",
   "metadata": {},
   "source": [
    "1d.) Using the multiplier of 3, IQR Range Rule, and the lower and upper bounds, identify the outliers above the upper_bound in each colum of lemonade.csv. Do these upper outliers make sense? Which outliers should be kept?"
   ]
  },
  {
   "cell_type": "code",
   "execution_count": 16,
   "id": "b70bdce6",
   "metadata": {},
   "outputs": [
    {
     "name": "stdout",
     "output_type": "stream",
     "text": [
      "for Temperature, the lower bound is -16.299999999999997, and the upper bound is 137.7\n",
      "       Date       Day  Temperature  Rainfall  Flyers  Price  Sales\n",
      "41  2/11/17  Saturday        212.0      0.91      35    0.5     21\n",
      "\n",
      "\n",
      "for Rainfall, the lower bound is -0.13, and the upper bound is 1.69\n",
      "         Date      Day  Temperature  Rainfall  Flyers  Price  Sales\n",
      "0      1/1/17   Sunday         27.0      2.00      15    0.5     10\n",
      "338   12/5/17  Tuesday         22.0      1.82      11    0.5     10\n",
      "343  12/10/17   Sunday         31.3      1.82      15    0.5     11\n",
      "364  12/31/17   Sunday         15.1      2.50       9    0.5      7\n",
      "\n",
      "\n",
      "for Flyers, the lower bound is -23.0, and the upper bound is 103.0\n",
      "Empty DataFrame\n",
      "Columns: [Date, Day, Temperature, Rainfall, Flyers, Price, Sales]\n",
      "Index: []\n",
      "\n",
      "\n",
      "for Price, the lower bound is 0.5, and the upper bound is 0.5\n",
      "Empty DataFrame\n",
      "Columns: [Date, Day, Temperature, Rainfall, Flyers, Price, Sales]\n",
      "Index: []\n",
      "\n",
      "\n",
      "for Sales, the lower bound is -10.0, and the upper bound is 60.0\n",
      "       Date       Day  Temperature  Rainfall  Flyers  Price  Sales\n",
      "181  7/1/17  Saturday        102.9      0.47      59    0.5    143\n",
      "182  7/2/17    Sunday         93.4      0.51      68    0.5    158\n",
      "183  7/3/17    Monday         81.5      0.54      68    0.5    235\n",
      "184  7/4/17   Tuesday         84.2      0.59      49    0.5    534\n",
      "\n",
      "\n"
     ]
    }
   ],
   "source": [
    "#upper outliers, with a multiplier of 3, in one go\n",
    "for i in cols:\n",
    "    under_bound, over_bound = get_lower_and_upper_bounds(df,i, m=3)\n",
    "    print(over_bound)\n",
    "    print('\\n')"
   ]
  },
  {
   "cell_type": "markdown",
   "id": "4d290d2c",
   "metadata": {},
   "source": [
    "I still find the upper ones reasonable given the seasons, I hear in some places there really is a lot of rain and business is booming around July 4th."
   ]
  },
  {
   "cell_type": "markdown",
   "id": "d87c9da8",
   "metadata": {},
   "source": [
    "2.) Identify if any columns in lemonade.csv are normally distributed. For normally distributed columns:"
   ]
  },
  {
   "cell_type": "code",
   "execution_count": 17,
   "id": "354298e3",
   "metadata": {},
   "outputs": [
    {
     "name": "stdout",
     "output_type": "stream",
     "text": [
      "Date\n"
     ]
    },
    {
     "data": {
      "image/png": "[encoded data removed]",
      "text/plain": [
       "<Figure size 432x288 with 1 Axes>"
      ]
     },
     "metadata": {
      "needs_background": "light"
     },
     "output_type": "display_data"
    },
    {
     "name": "stdout",
     "output_type": "stream",
     "text": [
      "Day\n"
     ]
    },
    {
     "data": {
      "image/png": "[encoded data removed]",
      "text/plain": [
       "<Figure size 432x288 with 1 Axes>"
      ]
     },
     "metadata": {
      "needs_background": "light"
     },
     "output_type": "display_data"
    },
    {
     "name": "stdout",
     "output_type": "stream",
     "text": [
      "Temperature\n"
     ]
    },
    {
     "data": {
      "image/png": "[encoded data removed]",
      "text/plain": [
       "<Figure size 432x288 with 1 Axes>"
      ]
     },
     "metadata": {
      "needs_background": "light"
     },
     "output_type": "display_data"
    },
    {
     "name": "stdout",
     "output_type": "stream",
     "text": [
      "Rainfall\n"
     ]
    },
    {
     "data": {
      "image/png": "[encoded data removed]",
      "text/plain": [
       "<Figure size 432x288 with 1 Axes>"
      ]
     },
     "metadata": {
      "needs_background": "light"
     },
     "output_type": "display_data"
    },
    {
     "name": "stdout",
     "output_type": "stream",
     "text": [
      "Flyers\n"
     ]
    },
    {
     "data": {
      "image/png": "[encoded data removed]",
      "text/plain": [
       "<Figure size 432x288 with 1 Axes>"
      ]
     },
     "metadata": {
      "needs_background": "light"
     },
     "output_type": "display_data"
    },
    {
     "name": "stdout",
     "output_type": "stream",
     "text": [
      "Price\n"
     ]
    },
    {
     "data": {
      "image/png": "[encoded data removed]",
      "text/plain": [
       "<Figure size 432x288 with 1 Axes>"
      ]
     },
     "metadata": {
      "needs_background": "light"
     },
     "output_type": "display_data"
    },
    {
     "name": "stdout",
     "output_type": "stream",
     "text": [
      "Sales\n"
     ]
    },
    {
     "data": {
      "image/png": "[encoded data removed]",
      "text/plain": [
       "<Figure size 432x288 with 1 Axes>"
      ]
     },
     "metadata": {
      "needs_background": "light"
     },
     "output_type": "display_data"
    }
   ],
   "source": [
    "for col in df.columns:\n",
    "    plt.hist(df[col])\n",
    "    print(col)\n",
    "    plt.show()"
   ]
  },
  {
   "cell_type": "code",
   "execution_count": 18,
   "id": "91d4d722",
   "metadata": {},
   "outputs": [
    {
     "data": {
      "text/plain": [
       "NormaltestResult(statistic=167.85600853401706, pvalue=3.5524736859556525e-37)"
      ]
     },
     "execution_count": 18,
     "metadata": {},
     "output_type": "execute_result"
    }
   ],
   "source": [
    "scipy.stats.normaltest(df.Temperature)"
   ]
  },
  {
   "cell_type": "code",
   "execution_count": 19,
   "id": "d9dc3849",
   "metadata": {},
   "outputs": [
    {
     "data": {
      "text/plain": [
       "NormaltestResult(statistic=25.203527052823677, pvalue=3.366073836658171e-06)"
      ]
     },
     "execution_count": 19,
     "metadata": {},
     "output_type": "execute_result"
    }
   ],
   "source": [
    "scipy.stats.normaltest(df.Flyers)"
   ]
  },
  {
   "cell_type": "code",
   "execution_count": 20,
   "id": "11648841",
   "metadata": {},
   "outputs": [
    {
     "data": {
      "text/plain": [
       "NormaltestResult(statistic=152.07858542963368, pvalue=9.474466534734132e-34)"
      ]
     },
     "execution_count": 20,
     "metadata": {},
     "output_type": "execute_result"
    }
   ],
   "source": [
    "scipy.stats.normaltest(df.Rainfall)"
   ]
  },
  {
   "cell_type": "markdown",
   "id": "f1eac64e",
   "metadata": {},
   "source": [
    "Normally distributed columns are temperature, rainfall, and flyers (visually)"
   ]
  },
  {
   "cell_type": "markdown",
   "id": "9d5471e7",
   "metadata": {},
   "source": [
    "2a.) Use a 2 sigma decision rule to isolate the outliers"
   ]
  },
  {
   "cell_type": "code",
   "execution_count": 21,
   "id": "1aec49fd",
   "metadata": {},
   "outputs": [],
   "source": [
    "#our normally distributed columns\n",
    "columns = ['Temperature', 'Rainfall', 'Flyers']"
   ]
  },
  {
   "cell_type": "code",
   "execution_count": 22,
   "id": "96ea34be",
   "metadata": {},
   "outputs": [],
   "source": [
    "#create zscore columns for each normally distributed one\n",
    "for col in columns:\n",
    "    z_score = pd.Series((df[col]-df[col].mean())/ df[col].std())\n",
    "    z_score_name = str(col) + '_zscore'\n",
    "    df[z_score_name] = z_score"
   ]
  },
  {
   "cell_type": "code",
   "execution_count": 23,
   "id": "6685d002",
   "metadata": {},
   "outputs": [
    {
     "data": {
      "text/html": [
       "<div>\n",
       "<style scoped>\n",
       "    .dataframe tbody tr th:only-of-type {\n",
       "        vertical-align: middle;\n",
       "    }\n",
       "\n",
       "    .dataframe tbody tr th {\n",
       "        vertical-align: top;\n",
       "    }\n",
       "\n",
       "    .dataframe thead th {\n",
       "        text-align: right;\n",
       "    }\n",
       "</style>\n",
       "<table border=\"1\" class=\"dataframe\">\n",
       "  <thead>\n",
       "    <tr style=\"text-align: right;\">\n",
       "      <th></th>\n",
       "      <th>Date</th>\n",
       "      <th>Day</th>\n",
       "      <th>Temperature</th>\n",
       "      <th>Rainfall</th>\n",
       "      <th>Flyers</th>\n",
       "      <th>Price</th>\n",
       "      <th>Sales</th>\n",
       "      <th>Temperature_zscore</th>\n",
       "      <th>Rainfall_zscore</th>\n",
       "      <th>Flyers_zscore</th>\n",
       "    </tr>\n",
       "  </thead>\n",
       "  <tbody>\n",
       "    <tr>\n",
       "      <th>41</th>\n",
       "      <td>2/11/17</td>\n",
       "      <td>Saturday</td>\n",
       "      <td>212.0</td>\n",
       "      <td>0.91</td>\n",
       "      <td>35</td>\n",
       "      <td>0.5</td>\n",
       "      <td>21</td>\n",
       "      <td>8.336627</td>\n",
       "      <td>0.306792</td>\n",
       "      <td>-0.370227</td>\n",
       "    </tr>\n",
       "    <tr>\n",
       "      <th>166</th>\n",
       "      <td>6/16/17</td>\n",
       "      <td>Friday</td>\n",
       "      <td>99.3</td>\n",
       "      <td>0.47</td>\n",
       "      <td>77</td>\n",
       "      <td>0.5</td>\n",
       "      <td>41</td>\n",
       "      <td>2.105251</td>\n",
       "      <td>-1.299691</td>\n",
       "      <td>2.676244</td>\n",
       "    </tr>\n",
       "    <tr>\n",
       "      <th>176</th>\n",
       "      <td>6/26/17</td>\n",
       "      <td>Monday</td>\n",
       "      <td>102.6</td>\n",
       "      <td>0.47</td>\n",
       "      <td>60</td>\n",
       "      <td>0.5</td>\n",
       "      <td>42</td>\n",
       "      <td>2.287714</td>\n",
       "      <td>-1.299691</td>\n",
       "      <td>1.443149</td>\n",
       "    </tr>\n",
       "    <tr>\n",
       "      <th>181</th>\n",
       "      <td>7/1/17</td>\n",
       "      <td>Saturday</td>\n",
       "      <td>102.9</td>\n",
       "      <td>0.47</td>\n",
       "      <td>59</td>\n",
       "      <td>0.5</td>\n",
       "      <td>143</td>\n",
       "      <td>2.304301</td>\n",
       "      <td>-1.299691</td>\n",
       "      <td>1.370614</td>\n",
       "    </tr>\n",
       "    <tr>\n",
       "      <th>190</th>\n",
       "      <td>7/10/17</td>\n",
       "      <td>Monday</td>\n",
       "      <td>98.0</td>\n",
       "      <td>0.49</td>\n",
       "      <td>66</td>\n",
       "      <td>0.5</td>\n",
       "      <td>40</td>\n",
       "      <td>2.033372</td>\n",
       "      <td>-1.226669</td>\n",
       "      <td>1.878359</td>\n",
       "    </tr>\n",
       "    <tr>\n",
       "      <th>198</th>\n",
       "      <td>7/18/17</td>\n",
       "      <td>Tuesday</td>\n",
       "      <td>99.3</td>\n",
       "      <td>0.47</td>\n",
       "      <td>76</td>\n",
       "      <td>0.5</td>\n",
       "      <td>41</td>\n",
       "      <td>2.105251</td>\n",
       "      <td>-1.299691</td>\n",
       "      <td>2.603709</td>\n",
       "    </tr>\n",
       "    <tr>\n",
       "      <th>202</th>\n",
       "      <td>7/22/17</td>\n",
       "      <td>Saturday</td>\n",
       "      <td>99.6</td>\n",
       "      <td>0.47</td>\n",
       "      <td>49</td>\n",
       "      <td>0.5</td>\n",
       "      <td>42</td>\n",
       "      <td>2.121838</td>\n",
       "      <td>-1.299691</td>\n",
       "      <td>0.645264</td>\n",
       "    </tr>\n",
       "    <tr>\n",
       "      <th>207</th>\n",
       "      <td>7/27/17</td>\n",
       "      <td>Thursday</td>\n",
       "      <td>97.9</td>\n",
       "      <td>0.47</td>\n",
       "      <td>74</td>\n",
       "      <td>0.5</td>\n",
       "      <td>43</td>\n",
       "      <td>2.027843</td>\n",
       "      <td>-1.299691</td>\n",
       "      <td>2.458639</td>\n",
       "    </tr>\n",
       "    <tr>\n",
       "      <th>338</th>\n",
       "      <td>12/5/17</td>\n",
       "      <td>Tuesday</td>\n",
       "      <td>22.0</td>\n",
       "      <td>1.82</td>\n",
       "      <td>11</td>\n",
       "      <td>0.5</td>\n",
       "      <td>10</td>\n",
       "      <td>-2.168799</td>\n",
       "      <td>3.629291</td>\n",
       "      <td>-2.111067</td>\n",
       "    </tr>\n",
       "    <tr>\n",
       "      <th>364</th>\n",
       "      <td>12/31/17</td>\n",
       "      <td>Sunday</td>\n",
       "      <td>15.1</td>\n",
       "      <td>2.50</td>\n",
       "      <td>9</td>\n",
       "      <td>0.5</td>\n",
       "      <td>7</td>\n",
       "      <td>-2.550311</td>\n",
       "      <td>6.112037</td>\n",
       "      <td>-2.256137</td>\n",
       "    </tr>\n",
       "  </tbody>\n",
       "</table>\n",
       "</div>"
      ],
      "text/plain": [
       "         Date       Day  Temperature  Rainfall  Flyers  Price  Sales  \\\n",
       "41    2/11/17  Saturday        212.0      0.91      35    0.5     21   \n",
       "166   6/16/17    Friday         99.3      0.47      77    0.5     41   \n",
       "176   6/26/17    Monday        102.6      0.47      60    0.5     42   \n",
       "181    7/1/17  Saturday        102.9      0.47      59    0.5    143   \n",
       "190   7/10/17    Monday         98.0      0.49      66    0.5     40   \n",
       "198   7/18/17   Tuesday         99.3      0.47      76    0.5     41   \n",
       "202   7/22/17  Saturday         99.6      0.47      49    0.5     42   \n",
       "207   7/27/17  Thursday         97.9      0.47      74    0.5     43   \n",
       "338   12/5/17   Tuesday         22.0      1.82      11    0.5     10   \n",
       "364  12/31/17    Sunday         15.1      2.50       9    0.5      7   \n",
       "\n",
       "     Temperature_zscore  Rainfall_zscore  Flyers_zscore  \n",
       "41             8.336627         0.306792      -0.370227  \n",
       "166            2.105251        -1.299691       2.676244  \n",
       "176            2.287714        -1.299691       1.443149  \n",
       "181            2.304301        -1.299691       1.370614  \n",
       "190            2.033372        -1.226669       1.878359  \n",
       "198            2.105251        -1.299691       2.603709  \n",
       "202            2.121838        -1.299691       0.645264  \n",
       "207            2.027843        -1.299691       2.458639  \n",
       "338           -2.168799         3.629291      -2.111067  \n",
       "364           -2.550311         6.112037      -2.256137  "
      ]
     },
     "execution_count": 23,
     "metadata": {},
     "output_type": "execute_result"
    }
   ],
   "source": [
    "#Temperatures with an absolute z score of 2 or higher\n",
    "df[df['Temperature_zscore'].abs() >=2]"
   ]
  },
  {
   "cell_type": "code",
   "execution_count": 24,
   "id": "eeba9d87",
   "metadata": {},
   "outputs": [
    {
     "data": {
      "text/html": [
       "<div>\n",
       "<style scoped>\n",
       "    .dataframe tbody tr th:only-of-type {\n",
       "        vertical-align: middle;\n",
       "    }\n",
       "\n",
       "    .dataframe tbody tr th {\n",
       "        vertical-align: top;\n",
       "    }\n",
       "\n",
       "    .dataframe thead th {\n",
       "        text-align: right;\n",
       "    }\n",
       "</style>\n",
       "<table border=\"1\" class=\"dataframe\">\n",
       "  <thead>\n",
       "    <tr style=\"text-align: right;\">\n",
       "      <th></th>\n",
       "      <th>Date</th>\n",
       "      <th>Day</th>\n",
       "      <th>Temperature</th>\n",
       "      <th>Rainfall</th>\n",
       "      <th>Flyers</th>\n",
       "      <th>Price</th>\n",
       "      <th>Sales</th>\n",
       "      <th>Temperature_zscore</th>\n",
       "      <th>Rainfall_zscore</th>\n",
       "      <th>Flyers_zscore</th>\n",
       "    </tr>\n",
       "  </thead>\n",
       "  <tbody>\n",
       "    <tr>\n",
       "      <th>0</th>\n",
       "      <td>1/1/17</td>\n",
       "      <td>Sunday</td>\n",
       "      <td>27.0</td>\n",
       "      <td>2.00</td>\n",
       "      <td>15</td>\n",
       "      <td>0.5</td>\n",
       "      <td>10</td>\n",
       "      <td>-1.892340</td>\n",
       "      <td>4.286488</td>\n",
       "      <td>-1.820927</td>\n",
       "    </tr>\n",
       "    <tr>\n",
       "      <th>5</th>\n",
       "      <td>1/6/17</td>\n",
       "      <td>Friday</td>\n",
       "      <td>25.3</td>\n",
       "      <td>1.54</td>\n",
       "      <td>23</td>\n",
       "      <td>0.5</td>\n",
       "      <td>11</td>\n",
       "      <td>-1.986336</td>\n",
       "      <td>2.606983</td>\n",
       "      <td>-1.240647</td>\n",
       "    </tr>\n",
       "    <tr>\n",
       "      <th>6</th>\n",
       "      <td>1/7/17</td>\n",
       "      <td>Saturday</td>\n",
       "      <td>32.9</td>\n",
       "      <td>1.54</td>\n",
       "      <td>19</td>\n",
       "      <td>0.5</td>\n",
       "      <td>13</td>\n",
       "      <td>-1.566119</td>\n",
       "      <td>2.606983</td>\n",
       "      <td>-1.530787</td>\n",
       "    </tr>\n",
       "    <tr>\n",
       "      <th>10</th>\n",
       "      <td>1/11/17</td>\n",
       "      <td>Wednesday</td>\n",
       "      <td>32.6</td>\n",
       "      <td>1.54</td>\n",
       "      <td>23</td>\n",
       "      <td>0.5</td>\n",
       "      <td>12</td>\n",
       "      <td>-1.582706</td>\n",
       "      <td>2.606983</td>\n",
       "      <td>-1.240647</td>\n",
       "    </tr>\n",
       "    <tr>\n",
       "      <th>15</th>\n",
       "      <td>1/16/17</td>\n",
       "      <td>Monday</td>\n",
       "      <td>30.6</td>\n",
       "      <td>1.67</td>\n",
       "      <td>24</td>\n",
       "      <td>0.5</td>\n",
       "      <td>12</td>\n",
       "      <td>-1.693290</td>\n",
       "      <td>3.081626</td>\n",
       "      <td>-1.168112</td>\n",
       "    </tr>\n",
       "    <tr>\n",
       "      <th>16</th>\n",
       "      <td>1/17/17</td>\n",
       "      <td>Tuesday</td>\n",
       "      <td>32.2</td>\n",
       "      <td>1.43</td>\n",
       "      <td>26</td>\n",
       "      <td>0.5</td>\n",
       "      <td>14</td>\n",
       "      <td>-1.604823</td>\n",
       "      <td>2.205363</td>\n",
       "      <td>-1.023042</td>\n",
       "    </tr>\n",
       "    <tr>\n",
       "      <th>19</th>\n",
       "      <td>1/20/17</td>\n",
       "      <td>Friday</td>\n",
       "      <td>31.6</td>\n",
       "      <td>1.43</td>\n",
       "      <td>20</td>\n",
       "      <td>0.5</td>\n",
       "      <td>12</td>\n",
       "      <td>-1.637998</td>\n",
       "      <td>2.205363</td>\n",
       "      <td>-1.458252</td>\n",
       "    </tr>\n",
       "    <tr>\n",
       "      <th>23</th>\n",
       "      <td>1/24/17</td>\n",
       "      <td>Tuesday</td>\n",
       "      <td>28.6</td>\n",
       "      <td>1.54</td>\n",
       "      <td>20</td>\n",
       "      <td>0.5</td>\n",
       "      <td>12</td>\n",
       "      <td>-1.803873</td>\n",
       "      <td>2.606983</td>\n",
       "      <td>-1.458252</td>\n",
       "    </tr>\n",
       "    <tr>\n",
       "      <th>337</th>\n",
       "      <td>12/4/17</td>\n",
       "      <td>Monday</td>\n",
       "      <td>34.9</td>\n",
       "      <td>1.54</td>\n",
       "      <td>16</td>\n",
       "      <td>0.5</td>\n",
       "      <td>13</td>\n",
       "      <td>-1.455535</td>\n",
       "      <td>2.606983</td>\n",
       "      <td>-1.748392</td>\n",
       "    </tr>\n",
       "    <tr>\n",
       "      <th>338</th>\n",
       "      <td>12/5/17</td>\n",
       "      <td>Tuesday</td>\n",
       "      <td>22.0</td>\n",
       "      <td>1.82</td>\n",
       "      <td>11</td>\n",
       "      <td>0.5</td>\n",
       "      <td>10</td>\n",
       "      <td>-2.168799</td>\n",
       "      <td>3.629291</td>\n",
       "      <td>-2.111067</td>\n",
       "    </tr>\n",
       "    <tr>\n",
       "      <th>342</th>\n",
       "      <td>12/9/17</td>\n",
       "      <td>Saturday</td>\n",
       "      <td>31.2</td>\n",
       "      <td>1.43</td>\n",
       "      <td>19</td>\n",
       "      <td>0.5</td>\n",
       "      <td>14</td>\n",
       "      <td>-1.660115</td>\n",
       "      <td>2.205363</td>\n",
       "      <td>-1.530787</td>\n",
       "    </tr>\n",
       "    <tr>\n",
       "      <th>343</th>\n",
       "      <td>12/10/17</td>\n",
       "      <td>Sunday</td>\n",
       "      <td>31.3</td>\n",
       "      <td>1.82</td>\n",
       "      <td>15</td>\n",
       "      <td>0.5</td>\n",
       "      <td>11</td>\n",
       "      <td>-1.654586</td>\n",
       "      <td>3.629291</td>\n",
       "      <td>-1.820927</td>\n",
       "    </tr>\n",
       "    <tr>\n",
       "      <th>346</th>\n",
       "      <td>12/13/17</td>\n",
       "      <td>Wednesday</td>\n",
       "      <td>32.2</td>\n",
       "      <td>1.43</td>\n",
       "      <td>26</td>\n",
       "      <td>0.5</td>\n",
       "      <td>14</td>\n",
       "      <td>-1.604823</td>\n",
       "      <td>2.205363</td>\n",
       "      <td>-1.023042</td>\n",
       "    </tr>\n",
       "    <tr>\n",
       "      <th>347</th>\n",
       "      <td>12/14/17</td>\n",
       "      <td>Thursday</td>\n",
       "      <td>31.9</td>\n",
       "      <td>1.54</td>\n",
       "      <td>24</td>\n",
       "      <td>0.5</td>\n",
       "      <td>13</td>\n",
       "      <td>-1.621411</td>\n",
       "      <td>2.606983</td>\n",
       "      <td>-1.168112</td>\n",
       "    </tr>\n",
       "    <tr>\n",
       "      <th>351</th>\n",
       "      <td>12/18/17</td>\n",
       "      <td>Monday</td>\n",
       "      <td>30.9</td>\n",
       "      <td>1.43</td>\n",
       "      <td>27</td>\n",
       "      <td>0.5</td>\n",
       "      <td>13</td>\n",
       "      <td>-1.676702</td>\n",
       "      <td>2.205363</td>\n",
       "      <td>-0.950507</td>\n",
       "    </tr>\n",
       "    <tr>\n",
       "      <th>355</th>\n",
       "      <td>12/22/17</td>\n",
       "      <td>Friday</td>\n",
       "      <td>30.9</td>\n",
       "      <td>1.54</td>\n",
       "      <td>17</td>\n",
       "      <td>0.5</td>\n",
       "      <td>13</td>\n",
       "      <td>-1.676702</td>\n",
       "      <td>2.606983</td>\n",
       "      <td>-1.675857</td>\n",
       "    </tr>\n",
       "    <tr>\n",
       "      <th>359</th>\n",
       "      <td>12/26/17</td>\n",
       "      <td>Tuesday</td>\n",
       "      <td>28.9</td>\n",
       "      <td>1.43</td>\n",
       "      <td>23</td>\n",
       "      <td>0.5</td>\n",
       "      <td>13</td>\n",
       "      <td>-1.787286</td>\n",
       "      <td>2.205363</td>\n",
       "      <td>-1.240647</td>\n",
       "    </tr>\n",
       "    <tr>\n",
       "      <th>363</th>\n",
       "      <td>12/30/17</td>\n",
       "      <td>Saturday</td>\n",
       "      <td>30.9</td>\n",
       "      <td>1.43</td>\n",
       "      <td>22</td>\n",
       "      <td>0.5</td>\n",
       "      <td>13</td>\n",
       "      <td>-1.676702</td>\n",
       "      <td>2.205363</td>\n",
       "      <td>-1.313182</td>\n",
       "    </tr>\n",
       "    <tr>\n",
       "      <th>364</th>\n",
       "      <td>12/31/17</td>\n",
       "      <td>Sunday</td>\n",
       "      <td>15.1</td>\n",
       "      <td>2.50</td>\n",
       "      <td>9</td>\n",
       "      <td>0.5</td>\n",
       "      <td>7</td>\n",
       "      <td>-2.550311</td>\n",
       "      <td>6.112037</td>\n",
       "      <td>-2.256137</td>\n",
       "    </tr>\n",
       "  </tbody>\n",
       "</table>\n",
       "</div>"
      ],
      "text/plain": [
       "         Date        Day  Temperature  Rainfall  Flyers  Price  Sales  \\\n",
       "0      1/1/17     Sunday         27.0      2.00      15    0.5     10   \n",
       "5      1/6/17     Friday         25.3      1.54      23    0.5     11   \n",
       "6      1/7/17   Saturday         32.9      1.54      19    0.5     13   \n",
       "10    1/11/17  Wednesday         32.6      1.54      23    0.5     12   \n",
       "15    1/16/17     Monday         30.6      1.67      24    0.5     12   \n",
       "16    1/17/17    Tuesday         32.2      1.43      26    0.5     14   \n",
       "19    1/20/17     Friday         31.6      1.43      20    0.5     12   \n",
       "23    1/24/17    Tuesday         28.6      1.54      20    0.5     12   \n",
       "337   12/4/17     Monday         34.9      1.54      16    0.5     13   \n",
       "338   12/5/17    Tuesday         22.0      1.82      11    0.5     10   \n",
       "342   12/9/17   Saturday         31.2      1.43      19    0.5     14   \n",
       "343  12/10/17     Sunday         31.3      1.82      15    0.5     11   \n",
       "346  12/13/17  Wednesday         32.2      1.43      26    0.5     14   \n",
       "347  12/14/17   Thursday         31.9      1.54      24    0.5     13   \n",
       "351  12/18/17     Monday         30.9      1.43      27    0.5     13   \n",
       "355  12/22/17     Friday         30.9      1.54      17    0.5     13   \n",
       "359  12/26/17    Tuesday         28.9      1.43      23    0.5     13   \n",
       "363  12/30/17   Saturday         30.9      1.43      22    0.5     13   \n",
       "364  12/31/17     Sunday         15.1      2.50       9    0.5      7   \n",
       "\n",
       "     Temperature_zscore  Rainfall_zscore  Flyers_zscore  \n",
       "0             -1.892340         4.286488      -1.820927  \n",
       "5             -1.986336         2.606983      -1.240647  \n",
       "6             -1.566119         2.606983      -1.530787  \n",
       "10            -1.582706         2.606983      -1.240647  \n",
       "15            -1.693290         3.081626      -1.168112  \n",
       "16            -1.604823         2.205363      -1.023042  \n",
       "19            -1.637998         2.205363      -1.458252  \n",
       "23            -1.803873         2.606983      -1.458252  \n",
       "337           -1.455535         2.606983      -1.748392  \n",
       "338           -2.168799         3.629291      -2.111067  \n",
       "342           -1.660115         2.205363      -1.530787  \n",
       "343           -1.654586         3.629291      -1.820927  \n",
       "346           -1.604823         2.205363      -1.023042  \n",
       "347           -1.621411         2.606983      -1.168112  \n",
       "351           -1.676702         2.205363      -0.950507  \n",
       "355           -1.676702         2.606983      -1.675857  \n",
       "359           -1.787286         2.205363      -1.240647  \n",
       "363           -1.676702         2.205363      -1.313182  \n",
       "364           -2.550311         6.112037      -2.256137  "
      ]
     },
     "execution_count": 24,
     "metadata": {},
     "output_type": "execute_result"
    }
   ],
   "source": [
    "#Rainfall with an absolute z score of 2 or higher\n",
    "df[df['Rainfall_zscore'].abs() >=2]"
   ]
  },
  {
   "cell_type": "code",
   "execution_count": 25,
   "id": "4202fbe6",
   "metadata": {},
   "outputs": [
    {
     "data": {
      "text/html": [
       "<div>\n",
       "<style scoped>\n",
       "    .dataframe tbody tr th:only-of-type {\n",
       "        vertical-align: middle;\n",
       "    }\n",
       "\n",
       "    .dataframe tbody tr th {\n",
       "        vertical-align: top;\n",
       "    }\n",
       "\n",
       "    .dataframe thead th {\n",
       "        text-align: right;\n",
       "    }\n",
       "</style>\n",
       "<table border=\"1\" class=\"dataframe\">\n",
       "  <thead>\n",
       "    <tr style=\"text-align: right;\">\n",
       "      <th></th>\n",
       "      <th>Date</th>\n",
       "      <th>Day</th>\n",
       "      <th>Temperature</th>\n",
       "      <th>Rainfall</th>\n",
       "      <th>Flyers</th>\n",
       "      <th>Price</th>\n",
       "      <th>Sales</th>\n",
       "      <th>Temperature_zscore</th>\n",
       "      <th>Rainfall_zscore</th>\n",
       "      <th>Flyers_zscore</th>\n",
       "    </tr>\n",
       "  </thead>\n",
       "  <tbody>\n",
       "    <tr>\n",
       "      <th>166</th>\n",
       "      <td>6/16/17</td>\n",
       "      <td>Friday</td>\n",
       "      <td>99.3</td>\n",
       "      <td>0.47</td>\n",
       "      <td>77</td>\n",
       "      <td>0.5</td>\n",
       "      <td>41</td>\n",
       "      <td>2.105251</td>\n",
       "      <td>-1.299691</td>\n",
       "      <td>2.676244</td>\n",
       "    </tr>\n",
       "    <tr>\n",
       "      <th>170</th>\n",
       "      <td>6/20/17</td>\n",
       "      <td>Tuesday</td>\n",
       "      <td>85.1</td>\n",
       "      <td>0.54</td>\n",
       "      <td>70</td>\n",
       "      <td>0.5</td>\n",
       "      <td>37</td>\n",
       "      <td>1.320109</td>\n",
       "      <td>-1.044114</td>\n",
       "      <td>2.168499</td>\n",
       "    </tr>\n",
       "    <tr>\n",
       "      <th>171</th>\n",
       "      <td>6/21/17</td>\n",
       "      <td>Wednesday</td>\n",
       "      <td>94.3</td>\n",
       "      <td>0.47</td>\n",
       "      <td>76</td>\n",
       "      <td>0.5</td>\n",
       "      <td>41</td>\n",
       "      <td>1.828792</td>\n",
       "      <td>-1.299691</td>\n",
       "      <td>2.603709</td>\n",
       "    </tr>\n",
       "    <tr>\n",
       "      <th>182</th>\n",
       "      <td>7/2/17</td>\n",
       "      <td>Sunday</td>\n",
       "      <td>93.4</td>\n",
       "      <td>0.51</td>\n",
       "      <td>68</td>\n",
       "      <td>0.5</td>\n",
       "      <td>158</td>\n",
       "      <td>1.779030</td>\n",
       "      <td>-1.153647</td>\n",
       "      <td>2.023429</td>\n",
       "    </tr>\n",
       "    <tr>\n",
       "      <th>183</th>\n",
       "      <td>7/3/17</td>\n",
       "      <td>Monday</td>\n",
       "      <td>81.5</td>\n",
       "      <td>0.54</td>\n",
       "      <td>68</td>\n",
       "      <td>0.5</td>\n",
       "      <td>235</td>\n",
       "      <td>1.121058</td>\n",
       "      <td>-1.044114</td>\n",
       "      <td>2.023429</td>\n",
       "    </tr>\n",
       "    <tr>\n",
       "      <th>194</th>\n",
       "      <td>7/14/17</td>\n",
       "      <td>Friday</td>\n",
       "      <td>92.0</td>\n",
       "      <td>0.50</td>\n",
       "      <td>80</td>\n",
       "      <td>0.5</td>\n",
       "      <td>40</td>\n",
       "      <td>1.701621</td>\n",
       "      <td>-1.190158</td>\n",
       "      <td>2.893849</td>\n",
       "    </tr>\n",
       "    <tr>\n",
       "      <th>198</th>\n",
       "      <td>7/18/17</td>\n",
       "      <td>Tuesday</td>\n",
       "      <td>99.3</td>\n",
       "      <td>0.47</td>\n",
       "      <td>76</td>\n",
       "      <td>0.5</td>\n",
       "      <td>41</td>\n",
       "      <td>2.105251</td>\n",
       "      <td>-1.299691</td>\n",
       "      <td>2.603709</td>\n",
       "    </tr>\n",
       "    <tr>\n",
       "      <th>203</th>\n",
       "      <td>7/23/17</td>\n",
       "      <td>Sunday</td>\n",
       "      <td>89.1</td>\n",
       "      <td>0.51</td>\n",
       "      <td>72</td>\n",
       "      <td>0.5</td>\n",
       "      <td>37</td>\n",
       "      <td>1.541275</td>\n",
       "      <td>-1.153647</td>\n",
       "      <td>2.313569</td>\n",
       "    </tr>\n",
       "    <tr>\n",
       "      <th>204</th>\n",
       "      <td>7/24/17</td>\n",
       "      <td>Monday</td>\n",
       "      <td>83.5</td>\n",
       "      <td>0.57</td>\n",
       "      <td>69</td>\n",
       "      <td>0.5</td>\n",
       "      <td>35</td>\n",
       "      <td>1.231642</td>\n",
       "      <td>-0.934581</td>\n",
       "      <td>2.095964</td>\n",
       "    </tr>\n",
       "    <tr>\n",
       "      <th>207</th>\n",
       "      <td>7/27/17</td>\n",
       "      <td>Thursday</td>\n",
       "      <td>97.9</td>\n",
       "      <td>0.47</td>\n",
       "      <td>74</td>\n",
       "      <td>0.5</td>\n",
       "      <td>43</td>\n",
       "      <td>2.027843</td>\n",
       "      <td>-1.299691</td>\n",
       "      <td>2.458639</td>\n",
       "    </tr>\n",
       "    <tr>\n",
       "      <th>324</th>\n",
       "      <td>11/21/17</td>\n",
       "      <td>Tuesday</td>\n",
       "      <td>47.0</td>\n",
       "      <td>0.95</td>\n",
       "      <td>-38</td>\n",
       "      <td>0.5</td>\n",
       "      <td>20</td>\n",
       "      <td>-0.786506</td>\n",
       "      <td>0.452836</td>\n",
       "      <td>-5.665283</td>\n",
       "    </tr>\n",
       "    <tr>\n",
       "      <th>338</th>\n",
       "      <td>12/5/17</td>\n",
       "      <td>Tuesday</td>\n",
       "      <td>22.0</td>\n",
       "      <td>1.82</td>\n",
       "      <td>11</td>\n",
       "      <td>0.5</td>\n",
       "      <td>10</td>\n",
       "      <td>-2.168799</td>\n",
       "      <td>3.629291</td>\n",
       "      <td>-2.111067</td>\n",
       "    </tr>\n",
       "    <tr>\n",
       "      <th>364</th>\n",
       "      <td>12/31/17</td>\n",
       "      <td>Sunday</td>\n",
       "      <td>15.1</td>\n",
       "      <td>2.50</td>\n",
       "      <td>9</td>\n",
       "      <td>0.5</td>\n",
       "      <td>7</td>\n",
       "      <td>-2.550311</td>\n",
       "      <td>6.112037</td>\n",
       "      <td>-2.256137</td>\n",
       "    </tr>\n",
       "  </tbody>\n",
       "</table>\n",
       "</div>"
      ],
      "text/plain": [
       "         Date        Day  Temperature  Rainfall  Flyers  Price  Sales  \\\n",
       "166   6/16/17     Friday         99.3      0.47      77    0.5     41   \n",
       "170   6/20/17    Tuesday         85.1      0.54      70    0.5     37   \n",
       "171   6/21/17  Wednesday         94.3      0.47      76    0.5     41   \n",
       "182    7/2/17     Sunday         93.4      0.51      68    0.5    158   \n",
       "183    7/3/17     Monday         81.5      0.54      68    0.5    235   \n",
       "194   7/14/17     Friday         92.0      0.50      80    0.5     40   \n",
       "198   7/18/17    Tuesday         99.3      0.47      76    0.5     41   \n",
       "203   7/23/17     Sunday         89.1      0.51      72    0.5     37   \n",
       "204   7/24/17     Monday         83.5      0.57      69    0.5     35   \n",
       "207   7/27/17   Thursday         97.9      0.47      74    0.5     43   \n",
       "324  11/21/17    Tuesday         47.0      0.95     -38    0.5     20   \n",
       "338   12/5/17    Tuesday         22.0      1.82      11    0.5     10   \n",
       "364  12/31/17     Sunday         15.1      2.50       9    0.5      7   \n",
       "\n",
       "     Temperature_zscore  Rainfall_zscore  Flyers_zscore  \n",
       "166            2.105251        -1.299691       2.676244  \n",
       "170            1.320109        -1.044114       2.168499  \n",
       "171            1.828792        -1.299691       2.603709  \n",
       "182            1.779030        -1.153647       2.023429  \n",
       "183            1.121058        -1.044114       2.023429  \n",
       "194            1.701621        -1.190158       2.893849  \n",
       "198            2.105251        -1.299691       2.603709  \n",
       "203            1.541275        -1.153647       2.313569  \n",
       "204            1.231642        -0.934581       2.095964  \n",
       "207            2.027843        -1.299691       2.458639  \n",
       "324           -0.786506         0.452836      -5.665283  \n",
       "338           -2.168799         3.629291      -2.111067  \n",
       "364           -2.550311         6.112037      -2.256137  "
      ]
     },
     "execution_count": 25,
     "metadata": {},
     "output_type": "execute_result"
    }
   ],
   "source": [
    "#Flyers with an absolute z score of 2 or higher\n",
    "df[df['Flyers_zscore'].abs() >=2]"
   ]
  },
  {
   "cell_type": "code",
   "execution_count": 26,
   "id": "d8cc3987",
   "metadata": {},
   "outputs": [],
   "source": [
    "columns = ['Temperature_zscore','Rainfall_zscore','Flyers_zscore']"
   ]
  },
  {
   "cell_type": "code",
   "execution_count": 27,
   "id": "2e1f1931",
   "metadata": {},
   "outputs": [
    {
     "name": "stdout",
     "output_type": "stream",
     "text": [
      "         Date       Day  Temperature  Rainfall  Flyers  Price  Sales  \\\n",
      "41    2/11/17  Saturday        212.0      0.91      35    0.5     21   \n",
      "166   6/16/17    Friday         99.3      0.47      77    0.5     41   \n",
      "176   6/26/17    Monday        102.6      0.47      60    0.5     42   \n",
      "181    7/1/17  Saturday        102.9      0.47      59    0.5    143   \n",
      "190   7/10/17    Monday         98.0      0.49      66    0.5     40   \n",
      "198   7/18/17   Tuesday         99.3      0.47      76    0.5     41   \n",
      "202   7/22/17  Saturday         99.6      0.47      49    0.5     42   \n",
      "207   7/27/17  Thursday         97.9      0.47      74    0.5     43   \n",
      "338   12/5/17   Tuesday         22.0      1.82      11    0.5     10   \n",
      "364  12/31/17    Sunday         15.1      2.50       9    0.5      7   \n",
      "\n",
      "     Temperature_zscore  Rainfall_zscore  Flyers_zscore  \n",
      "41             8.336627         0.306792      -0.370227  \n",
      "166            2.105251        -1.299691       2.676244  \n",
      "176            2.287714        -1.299691       1.443149  \n",
      "181            2.304301        -1.299691       1.370614  \n",
      "190            2.033372        -1.226669       1.878359  \n",
      "198            2.105251        -1.299691       2.603709  \n",
      "202            2.121838        -1.299691       0.645264  \n",
      "207            2.027843        -1.299691       2.458639  \n",
      "338           -2.168799         3.629291      -2.111067  \n",
      "364           -2.550311         6.112037      -2.256137  \n",
      "         Date        Day  Temperature  Rainfall  Flyers  Price  Sales  \\\n",
      "0      1/1/17     Sunday         27.0      2.00      15    0.5     10   \n",
      "5      1/6/17     Friday         25.3      1.54      23    0.5     11   \n",
      "6      1/7/17   Saturday         32.9      1.54      19    0.5     13   \n",
      "10    1/11/17  Wednesday         32.6      1.54      23    0.5     12   \n",
      "15    1/16/17     Monday         30.6      1.67      24    0.5     12   \n",
      "16    1/17/17    Tuesday         32.2      1.43      26    0.5     14   \n",
      "19    1/20/17     Friday         31.6      1.43      20    0.5     12   \n",
      "23    1/24/17    Tuesday         28.6      1.54      20    0.5     12   \n",
      "337   12/4/17     Monday         34.9      1.54      16    0.5     13   \n",
      "338   12/5/17    Tuesday         22.0      1.82      11    0.5     10   \n",
      "342   12/9/17   Saturday         31.2      1.43      19    0.5     14   \n",
      "343  12/10/17     Sunday         31.3      1.82      15    0.5     11   \n",
      "346  12/13/17  Wednesday         32.2      1.43      26    0.5     14   \n",
      "347  12/14/17   Thursday         31.9      1.54      24    0.5     13   \n",
      "351  12/18/17     Monday         30.9      1.43      27    0.5     13   \n",
      "355  12/22/17     Friday         30.9      1.54      17    0.5     13   \n",
      "359  12/26/17    Tuesday         28.9      1.43      23    0.5     13   \n",
      "363  12/30/17   Saturday         30.9      1.43      22    0.5     13   \n",
      "364  12/31/17     Sunday         15.1      2.50       9    0.5      7   \n",
      "\n",
      "     Temperature_zscore  Rainfall_zscore  Flyers_zscore  \n",
      "0             -1.892340         4.286488      -1.820927  \n",
      "5             -1.986336         2.606983      -1.240647  \n",
      "6             -1.566119         2.606983      -1.530787  \n",
      "10            -1.582706         2.606983      -1.240647  \n",
      "15            -1.693290         3.081626      -1.168112  \n",
      "16            -1.604823         2.205363      -1.023042  \n",
      "19            -1.637998         2.205363      -1.458252  \n",
      "23            -1.803873         2.606983      -1.458252  \n",
      "337           -1.455535         2.606983      -1.748392  \n",
      "338           -2.168799         3.629291      -2.111067  \n",
      "342           -1.660115         2.205363      -1.530787  \n",
      "343           -1.654586         3.629291      -1.820927  \n",
      "346           -1.604823         2.205363      -1.023042  \n",
      "347           -1.621411         2.606983      -1.168112  \n",
      "351           -1.676702         2.205363      -0.950507  \n",
      "355           -1.676702         2.606983      -1.675857  \n",
      "359           -1.787286         2.205363      -1.240647  \n",
      "363           -1.676702         2.205363      -1.313182  \n",
      "364           -2.550311         6.112037      -2.256137  \n",
      "         Date        Day  Temperature  Rainfall  Flyers  Price  Sales  \\\n",
      "166   6/16/17     Friday         99.3      0.47      77    0.5     41   \n",
      "170   6/20/17    Tuesday         85.1      0.54      70    0.5     37   \n",
      "171   6/21/17  Wednesday         94.3      0.47      76    0.5     41   \n",
      "182    7/2/17     Sunday         93.4      0.51      68    0.5    158   \n",
      "183    7/3/17     Monday         81.5      0.54      68    0.5    235   \n",
      "194   7/14/17     Friday         92.0      0.50      80    0.5     40   \n",
      "198   7/18/17    Tuesday         99.3      0.47      76    0.5     41   \n",
      "203   7/23/17     Sunday         89.1      0.51      72    0.5     37   \n",
      "204   7/24/17     Monday         83.5      0.57      69    0.5     35   \n",
      "207   7/27/17   Thursday         97.9      0.47      74    0.5     43   \n",
      "324  11/21/17    Tuesday         47.0      0.95     -38    0.5     20   \n",
      "338   12/5/17    Tuesday         22.0      1.82      11    0.5     10   \n",
      "364  12/31/17     Sunday         15.1      2.50       9    0.5      7   \n",
      "\n",
      "     Temperature_zscore  Rainfall_zscore  Flyers_zscore  \n",
      "166            2.105251        -1.299691       2.676244  \n",
      "170            1.320109        -1.044114       2.168499  \n",
      "171            1.828792        -1.299691       2.603709  \n",
      "182            1.779030        -1.153647       2.023429  \n",
      "183            1.121058        -1.044114       2.023429  \n",
      "194            1.701621        -1.190158       2.893849  \n",
      "198            2.105251        -1.299691       2.603709  \n",
      "203            1.541275        -1.153647       2.313569  \n",
      "204            1.231642        -0.934581       2.095964  \n",
      "207            2.027843        -1.299691       2.458639  \n",
      "324           -0.786506         0.452836      -5.665283  \n",
      "338           -2.168799         3.629291      -2.111067  \n",
      "364           -2.550311         6.112037      -2.256137  \n"
     ]
    }
   ],
   "source": [
    "#All entries with an absolute z score of 2 or higher\n",
    "for col in df[['Temperature_zscore','Rainfall_zscore','Flyers_zscore']]:\n",
    "    print(df[df[col].abs() >=2])"
   ]
  },
  {
   "cell_type": "markdown",
   "id": "6d9d1743",
   "metadata": {},
   "source": [
    "2b.) Do these make sense?\n",
    "I'd only be suspicious of the flyers z score that is over -5, and the temperature that is 8 standard deviations above the mean...other than that:\n",
    "\n",
    "It seems to make sense, because temperatures can be drastically different from the average. It's not unreasonable to put up a lot more flyers to promote your business before a holiday. Last, sales can be way higher than average.\n",
    "\n",
    "A z score of 16 is a lot, but it seems like before July 4th it was building up.\n",
    "\n",
    "2c.) Should certain outliers be kept or removed?\n",
    "I believe everything can be used in our data, except for the flyers lower outlier, and the temperature's upper outlier. You can't distribute -38 flyers, and the temperature doesn't hit 212 in February (it seems like this is in Northern Hemisphere with the other temperatures and months)\n",
    "\n",
    "3.) Now use a 3 sigma decision rule to isolate the outliers in the normally distributed columns from lemonade.csv"
   ]
  },
  {
   "cell_type": "code",
   "execution_count": 28,
   "id": "03eba433",
   "metadata": {},
   "outputs": [
    {
     "data": {
      "text/html": [
       "<div>\n",
       "<style scoped>\n",
       "    .dataframe tbody tr th:only-of-type {\n",
       "        vertical-align: middle;\n",
       "    }\n",
       "\n",
       "    .dataframe tbody tr th {\n",
       "        vertical-align: top;\n",
       "    }\n",
       "\n",
       "    .dataframe thead th {\n",
       "        text-align: right;\n",
       "    }\n",
       "</style>\n",
       "<table border=\"1\" class=\"dataframe\">\n",
       "  <thead>\n",
       "    <tr style=\"text-align: right;\">\n",
       "      <th></th>\n",
       "      <th>Date</th>\n",
       "      <th>Day</th>\n",
       "      <th>Temperature</th>\n",
       "      <th>Rainfall</th>\n",
       "      <th>Flyers</th>\n",
       "      <th>Price</th>\n",
       "      <th>Sales</th>\n",
       "      <th>Temperature_zscore</th>\n",
       "      <th>Rainfall_zscore</th>\n",
       "      <th>Flyers_zscore</th>\n",
       "    </tr>\n",
       "  </thead>\n",
       "  <tbody>\n",
       "    <tr>\n",
       "      <th>41</th>\n",
       "      <td>2/11/17</td>\n",
       "      <td>Saturday</td>\n",
       "      <td>212.0</td>\n",
       "      <td>0.91</td>\n",
       "      <td>35</td>\n",
       "      <td>0.5</td>\n",
       "      <td>21</td>\n",
       "      <td>8.336627</td>\n",
       "      <td>0.306792</td>\n",
       "      <td>-0.370227</td>\n",
       "    </tr>\n",
       "  </tbody>\n",
       "</table>\n",
       "</div>"
      ],
      "text/plain": [
       "       Date       Day  Temperature  Rainfall  Flyers  Price  Sales  \\\n",
       "41  2/11/17  Saturday        212.0      0.91      35    0.5     21   \n",
       "\n",
       "    Temperature_zscore  Rainfall_zscore  Flyers_zscore  \n",
       "41            8.336627         0.306792      -0.370227  "
      ]
     },
     "execution_count": 28,
     "metadata": {},
     "output_type": "execute_result"
    }
   ],
   "source": [
    "#Temperature with an absolute z score of 3 or higher\n",
    "df[df['Temperature_zscore'].abs() >=3]"
   ]
  },
  {
   "cell_type": "code",
   "execution_count": 29,
   "id": "0e01817a",
   "metadata": {},
   "outputs": [
    {
     "data": {
      "text/html": [
       "<div>\n",
       "<style scoped>\n",
       "    .dataframe tbody tr th:only-of-type {\n",
       "        vertical-align: middle;\n",
       "    }\n",
       "\n",
       "    .dataframe tbody tr th {\n",
       "        vertical-align: top;\n",
       "    }\n",
       "\n",
       "    .dataframe thead th {\n",
       "        text-align: right;\n",
       "    }\n",
       "</style>\n",
       "<table border=\"1\" class=\"dataframe\">\n",
       "  <thead>\n",
       "    <tr style=\"text-align: right;\">\n",
       "      <th></th>\n",
       "      <th>Date</th>\n",
       "      <th>Day</th>\n",
       "      <th>Temperature</th>\n",
       "      <th>Rainfall</th>\n",
       "      <th>Flyers</th>\n",
       "      <th>Price</th>\n",
       "      <th>Sales</th>\n",
       "      <th>Temperature_zscore</th>\n",
       "      <th>Rainfall_zscore</th>\n",
       "      <th>Flyers_zscore</th>\n",
       "    </tr>\n",
       "  </thead>\n",
       "  <tbody>\n",
       "    <tr>\n",
       "      <th>0</th>\n",
       "      <td>1/1/17</td>\n",
       "      <td>Sunday</td>\n",
       "      <td>27.0</td>\n",
       "      <td>2.00</td>\n",
       "      <td>15</td>\n",
       "      <td>0.5</td>\n",
       "      <td>10</td>\n",
       "      <td>-1.892340</td>\n",
       "      <td>4.286488</td>\n",
       "      <td>-1.820927</td>\n",
       "    </tr>\n",
       "    <tr>\n",
       "      <th>15</th>\n",
       "      <td>1/16/17</td>\n",
       "      <td>Monday</td>\n",
       "      <td>30.6</td>\n",
       "      <td>1.67</td>\n",
       "      <td>24</td>\n",
       "      <td>0.5</td>\n",
       "      <td>12</td>\n",
       "      <td>-1.693290</td>\n",
       "      <td>3.081626</td>\n",
       "      <td>-1.168112</td>\n",
       "    </tr>\n",
       "    <tr>\n",
       "      <th>338</th>\n",
       "      <td>12/5/17</td>\n",
       "      <td>Tuesday</td>\n",
       "      <td>22.0</td>\n",
       "      <td>1.82</td>\n",
       "      <td>11</td>\n",
       "      <td>0.5</td>\n",
       "      <td>10</td>\n",
       "      <td>-2.168799</td>\n",
       "      <td>3.629291</td>\n",
       "      <td>-2.111067</td>\n",
       "    </tr>\n",
       "    <tr>\n",
       "      <th>343</th>\n",
       "      <td>12/10/17</td>\n",
       "      <td>Sunday</td>\n",
       "      <td>31.3</td>\n",
       "      <td>1.82</td>\n",
       "      <td>15</td>\n",
       "      <td>0.5</td>\n",
       "      <td>11</td>\n",
       "      <td>-1.654586</td>\n",
       "      <td>3.629291</td>\n",
       "      <td>-1.820927</td>\n",
       "    </tr>\n",
       "    <tr>\n",
       "      <th>364</th>\n",
       "      <td>12/31/17</td>\n",
       "      <td>Sunday</td>\n",
       "      <td>15.1</td>\n",
       "      <td>2.50</td>\n",
       "      <td>9</td>\n",
       "      <td>0.5</td>\n",
       "      <td>7</td>\n",
       "      <td>-2.550311</td>\n",
       "      <td>6.112037</td>\n",
       "      <td>-2.256137</td>\n",
       "    </tr>\n",
       "  </tbody>\n",
       "</table>\n",
       "</div>"
      ],
      "text/plain": [
       "         Date      Day  Temperature  Rainfall  Flyers  Price  Sales  \\\n",
       "0      1/1/17   Sunday         27.0      2.00      15    0.5     10   \n",
       "15    1/16/17   Monday         30.6      1.67      24    0.5     12   \n",
       "338   12/5/17  Tuesday         22.0      1.82      11    0.5     10   \n",
       "343  12/10/17   Sunday         31.3      1.82      15    0.5     11   \n",
       "364  12/31/17   Sunday         15.1      2.50       9    0.5      7   \n",
       "\n",
       "     Temperature_zscore  Rainfall_zscore  Flyers_zscore  \n",
       "0             -1.892340         4.286488      -1.820927  \n",
       "15            -1.693290         3.081626      -1.168112  \n",
       "338           -2.168799         3.629291      -2.111067  \n",
       "343           -1.654586         3.629291      -1.820927  \n",
       "364           -2.550311         6.112037      -2.256137  "
      ]
     },
     "execution_count": 29,
     "metadata": {},
     "output_type": "execute_result"
    }
   ],
   "source": [
    "#Rainfall with an absolute z score of 3 or higher\n",
    "df[df['Rainfall_zscore'].abs() >=3]"
   ]
  },
  {
   "cell_type": "code",
   "execution_count": 30,
   "id": "dc62205b",
   "metadata": {},
   "outputs": [
    {
     "data": {
      "text/html": [
       "<div>\n",
       "<style scoped>\n",
       "    .dataframe tbody tr th:only-of-type {\n",
       "        vertical-align: middle;\n",
       "    }\n",
       "\n",
       "    .dataframe tbody tr th {\n",
       "        vertical-align: top;\n",
       "    }\n",
       "\n",
       "    .dataframe thead th {\n",
       "        text-align: right;\n",
       "    }\n",
       "</style>\n",
       "<table border=\"1\" class=\"dataframe\">\n",
       "  <thead>\n",
       "    <tr style=\"text-align: right;\">\n",
       "      <th></th>\n",
       "      <th>Date</th>\n",
       "      <th>Day</th>\n",
       "      <th>Temperature</th>\n",
       "      <th>Rainfall</th>\n",
       "      <th>Flyers</th>\n",
       "      <th>Price</th>\n",
       "      <th>Sales</th>\n",
       "      <th>Temperature_zscore</th>\n",
       "      <th>Rainfall_zscore</th>\n",
       "      <th>Flyers_zscore</th>\n",
       "    </tr>\n",
       "  </thead>\n",
       "  <tbody>\n",
       "    <tr>\n",
       "      <th>324</th>\n",
       "      <td>11/21/17</td>\n",
       "      <td>Tuesday</td>\n",
       "      <td>47.0</td>\n",
       "      <td>0.95</td>\n",
       "      <td>-38</td>\n",
       "      <td>0.5</td>\n",
       "      <td>20</td>\n",
       "      <td>-0.786506</td>\n",
       "      <td>0.452836</td>\n",
       "      <td>-5.665283</td>\n",
       "    </tr>\n",
       "  </tbody>\n",
       "</table>\n",
       "</div>"
      ],
      "text/plain": [
       "         Date      Day  Temperature  Rainfall  Flyers  Price  Sales  \\\n",
       "324  11/21/17  Tuesday         47.0      0.95     -38    0.5     20   \n",
       "\n",
       "     Temperature_zscore  Rainfall_zscore  Flyers_zscore  \n",
       "324           -0.786506         0.452836      -5.665283  "
      ]
     },
     "execution_count": 30,
     "metadata": {},
     "output_type": "execute_result"
    }
   ],
   "source": [
    "#Flyers with an absolute z score of 3 or higher\n",
    "df[df['Flyers_zscore'].abs() >=3]"
   ]
  },
  {
   "cell_type": "code",
   "execution_count": 31,
   "id": "77347543",
   "metadata": {},
   "outputs": [
    {
     "name": "stdout",
     "output_type": "stream",
     "text": [
      "       Date       Day  Temperature  Rainfall  Flyers  Price  Sales  \\\n",
      "41  2/11/17  Saturday        212.0      0.91      35    0.5     21   \n",
      "\n",
      "    Temperature_zscore  Rainfall_zscore  Flyers_zscore  \n",
      "41            8.336627         0.306792      -0.370227  \n",
      "         Date      Day  Temperature  Rainfall  Flyers  Price  Sales  \\\n",
      "0      1/1/17   Sunday         27.0      2.00      15    0.5     10   \n",
      "15    1/16/17   Monday         30.6      1.67      24    0.5     12   \n",
      "338   12/5/17  Tuesday         22.0      1.82      11    0.5     10   \n",
      "343  12/10/17   Sunday         31.3      1.82      15    0.5     11   \n",
      "364  12/31/17   Sunday         15.1      2.50       9    0.5      7   \n",
      "\n",
      "     Temperature_zscore  Rainfall_zscore  Flyers_zscore  \n",
      "0             -1.892340         4.286488      -1.820927  \n",
      "15            -1.693290         3.081626      -1.168112  \n",
      "338           -2.168799         3.629291      -2.111067  \n",
      "343           -1.654586         3.629291      -1.820927  \n",
      "364           -2.550311         6.112037      -2.256137  \n",
      "         Date      Day  Temperature  Rainfall  Flyers  Price  Sales  \\\n",
      "324  11/21/17  Tuesday         47.0      0.95     -38    0.5     20   \n",
      "\n",
      "     Temperature_zscore  Rainfall_zscore  Flyers_zscore  \n",
      "324           -0.786506         0.452836      -5.665283  \n"
     ]
    }
   ],
   "source": [
    "for col in df[['Temperature_zscore','Rainfall_zscore','Flyers_zscore']]:\n",
    "    print(df[df[col].abs() >=3])"
   ]
  },
  {
   "cell_type": "code",
   "execution_count": null,
   "id": "02885fc3",
   "metadata": {},
   "outputs": [],
   "source": []
  }
 ],
 "metadata": {
  "kernelspec": {
   "display_name": "Python 3",
   "language": "python",
   "name": "python3"
  },
  "language_info": {
   "codemirror_mode": {
    "name": "ipython",
    "version": 3
   },
   "file_extension": ".py",
   "mimetype": "text/x-python",
   "name": "python",
   "nbconvert_exporter": "python",
   "pygments_lexer": "ipython3",
   "version": "3.8.8"
  }
 },
 "nbformat": 4,
 "nbformat_minor": 5
}
